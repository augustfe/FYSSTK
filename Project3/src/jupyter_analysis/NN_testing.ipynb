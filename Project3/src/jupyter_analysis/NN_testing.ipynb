{
 "cells": [
  {
   "cell_type": "code",
   "execution_count": 1,
   "metadata": {},
   "outputs": [],
   "source": [
    "from NeuralNetwork import NeuralNet\n",
    "import jax.numpy as np\n",
    "import numpy as onp\n",
    "import matplotlib.pyplot as plt\n",
    "from jax import jit\n",
    "from plotutils import plotHeatmap\n",
    "import pandas as pd\n"
   ]
  },
  {
   "cell_type": "code",
   "execution_count": 2,
   "metadata": {},
   "outputs": [],
   "source": [
    "@jit\n",
    "def FrankeFunction(x: np.ndarray, y: np.ndarray) -> np.ndarray:\n",
    "    \"\"\"Franke's function for evaluating methods.\n",
    "\n",
    "    inputs:\n",
    "        x (np.array): values in x direction\n",
    "\n",
    "        y (np.array): values in y direction\n",
    "\n",
    "    returns:\n",
    "        (np.array) values in z direction\n",
    "    \"\"\"\n",
    "\n",
    "    term1 = 0.75 * np.exp(-(0.25 * (9 * x - 2) ** 2) -\n",
    "                          0.25 * ((9 * y - 2) ** 2))\n",
    "    term2 = 0.75 * np.exp(-((9 * x + 1) ** 2) / 49.0 - 0.1 * (9 * y + 1))\n",
    "    term3 = 0.5 * np.exp(-((9 * x - 7) ** 2) / 4.0 - 0.25 * ((9 * y - 3) ** 2))\n",
    "    term4 = -0.2 * np.exp(-((9 * x - 4) ** 2) - (9 * y - 7) ** 2)\n",
    "    return term1 + term2 + term3 + term4"
   ]
  },
  {
   "cell_type": "code",
   "execution_count": 3,
   "metadata": {},
   "outputs": [],
   "source": [
    "x = np.linspace(0, 1, 3)\n",
    "y = np.linspace(0, 1, 3)\n",
    "x, y = np.meshgrid(x, y)\n",
    "z = FrankeFunction(x, y).reshape(-1, 1)\n",
    "X = np.hstack((x.reshape(-1, 1), y.reshape(-1, 1)))\n"
   ]
  },
  {
   "cell_type": "code",
   "execution_count": 4,
   "metadata": {},
   "outputs": [],
   "source": [
    "from typing import Callable\n",
    "from CostFuncs import CostOLS_fast\n",
    "from Schedules import Scheduler, Constant\n",
    "from Activators import sigmoid, identity\n",
    "from NeuralNetwork import NeuralNet\n",
    "from pathlib import Path\n",
    "from plotutils import plot_Franke, plot_validation_train"
   ]
  },
  {
   "cell_type": "code",
   "execution_count": 5,
   "metadata": {},
   "outputs": [],
   "source": [
    "from sklearn.model_selection import train_test_split\n",
    "\n",
    "# one-liner from scikit-learn library\n",
    "train_size = 0.5\n",
    "test_size = 1 - train_size\n",
    "X_train, X_test, Z_train, Z_test = train_test_split(X, z, train_size=train_size,\n",
    "                                                    test_size=test_size)"
   ]
  },
  {
   "cell_type": "code",
   "execution_count": 6,
   "metadata": {},
   "outputs": [
    {
     "name": "stderr",
     "output_type": "stream",
     "text": [
      "100%|██████████| 10/10 [00:01<00:00,  5.12it/s]\n"
     ]
    }
   ],
   "source": [
    "FFNN = NeuralNet((X_train.shape[1],3,1), sigmoid, identity, CostOLS_fast, seed=2023)\n",
    "scores = FFNN.fit(\n",
    "    X_train,\n",
    "    Z_train,\n",
    "    scheduler=Constant(eta=0.01),\n",
    "    batches=2,\n",
    "    epochs=5,\n",
    "    lmbda=0.1,\n",
    "    X_val=X_test,\n",
    "    target_val=Z_test,\n",
    ")\n",
    "\n"
   ]
  }
 ],
 "metadata": {
  "kernelspec": {
   "display_name": "fysstk",
   "language": "python",
   "name": "python3"
  },
  "language_info": {
   "codemirror_mode": {
    "name": "ipython",
    "version": 3
   },
   "file_extension": ".py",
   "mimetype": "text/x-python",
   "name": "python",
   "nbconvert_exporter": "python",
   "pygments_lexer": "ipython3",
   "version": "3.12.0"
  }
 },
 "nbformat": 4,
 "nbformat_minor": 2
}
