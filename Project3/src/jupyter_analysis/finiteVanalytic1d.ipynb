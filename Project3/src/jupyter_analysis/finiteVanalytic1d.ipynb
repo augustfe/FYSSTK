{
 "cells": [
  {
   "cell_type": "markdown",
   "metadata": {},
   "source": [
    "# Finite difference method vs analytical 1-d Heat equation"
   ]
  },
  {
   "cell_type": "code",
   "execution_count": null,
   "metadata": {},
   "outputs": [],
   "source": [
    "import numpy as np\n",
    "\n",
    "\n",
    "def f_dt(dx):\n",
    "    return (dx**2)/2\n",
    "\n",
    "\n",
    "L = 1 #rod length\n",
    "dx = 0.01\n",
    "nx = int(L/dx) + 1\n",
    "x = np.linspace(0,L,nx)\n",
    "\n",
    "T = 3 #final time\n",
    "dt = f_dt(dx)\n",
    "nt = int(T/dt) + 1\n",
    "t = np.linspace(0,T,nt)"
   ]
  },
  {
   "cell_type": "code",
   "execution_count": null,
   "metadata": {},
   "outputs": [],
   "source": [
    "from AnalyticalHeat import analytical_heat\n",
    "import matplotlib.pyplot as plt\n",
    "\n",
    "xv, tv = np.meshgrid(x,t)\n",
    "heat_analytical = analytical_heat(xv,tv)\n",
    "\n",
    "#figure and axis for 3D plotting\n",
    "fig = plt.figure(figsize=(12, 6))\n",
    "ax = fig.add_subplot(111, projection='3d')\n",
    "\n",
    "\n",
    "surf = ax.plot_surface(xv, tv, heat_analytical, cmap='viridis')\n",
    "\n",
    "\n",
    "fig.colorbar(surf, shrink=0.5, aspect=5)\n",
    "\n",
    "\n",
    "ax.set_xlabel('Position (x)')\n",
    "ax.set_ylabel('Time (t)')\n",
    "ax.set_zlabel('Heat (u)')\n",
    "\n",
    "\n",
    "ax.set_title('3D Surface plot of Analytical Heat Distribution')\n",
    "\n",
    "plt.show()\n"
   ]
  },
  {
   "cell_type": "code",
   "execution_count": null,
   "metadata": {},
   "outputs": [],
   "source": [
    "#inital heat distribution\n",
    "u0 = np.sin(np.pi*x)\n"
   ]
  }
 ],
 "metadata": {
  "kernelspec": {
   "display_name": "fysstk",
   "language": "python",
   "name": "python3"
  },
  "language_info": {
   "name": "python",
   "version": "3.12.0"
  }
 },
 "nbformat": 4,
 "nbformat_minor": 2
}
