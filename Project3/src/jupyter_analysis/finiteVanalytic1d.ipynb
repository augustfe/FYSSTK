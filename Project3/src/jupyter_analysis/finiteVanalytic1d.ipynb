{
 "cells": [
  {
   "cell_type": "markdown",
   "metadata": {},
   "source": [
    "# Finite difference method vs analytical 1-d Heat equation"
   ]
  },
  {
   "cell_type": "code",
   "execution_count": 2,
   "metadata": {},
   "outputs": [],
   "source": [
    "import numpy as np\n",
    "\n",
    "\n",
    "def f_dt(dx):\n",
    "    return (dx**2)/2\n",
    "\n",
    "\n",
    "L = 1 #rod length\n",
    "dx = 0.01\n",
    "nx = int(L/dx) + 1\n",
    "x = np.linspace(0,L,nx)\n",
    "\n",
    "T = 1 #final time\n",
    "dt = f_dt(dx)\n",
    "nt = int(T/dt) + 1\n",
    "t = np.linspace(0,T,nt)\n",
    "\n"
   ]
  },
  {
   "cell_type": "code",
   "execution_count": 8,
   "metadata": {},
   "outputs": [
    {
     "ename": "TypeError",
     "evalue": "plot_heat() missing 3 required positional arguments: 'xv', 'tv', and 'u'",
     "output_type": "error",
     "traceback": [
      "\u001b[1;31m---------------------------------------------------------------------------\u001b[0m",
      "\u001b[1;31mTypeError\u001b[0m                                 Traceback (most recent call last)",
      "\u001b[1;32mc:\\Users\\danie\\Documents\\Høst2023\\FYS-STK\\FYSSTK\\Project3\\src\\jupyter_analysis\\finiteVanalytic1d.ipynb Cell 3\u001b[0m line \u001b[0;36m8\n\u001b[0;32m      <a href='vscode-notebook-cell:/c%3A/Users/danie/Documents/H%C3%B8st2023/FYS-STK/FYSSTK/Project3/src/jupyter_analysis/finiteVanalytic1d.ipynb#W2sZmlsZQ%3D%3D?line=4'>5</a>\u001b[0m xv, tv \u001b[39m=\u001b[39m np\u001b[39m.\u001b[39mmeshgrid(x,t)\n\u001b[0;32m      <a href='vscode-notebook-cell:/c%3A/Users/danie/Documents/H%C3%B8st2023/FYS-STK/FYSSTK/Project3/src/jupyter_analysis/finiteVanalytic1d.ipynb#W2sZmlsZQ%3D%3D?line=5'>6</a>\u001b[0m heat_analytical \u001b[39m=\u001b[39m analytical_heat(xv,tv)\n\u001b[1;32m----> <a href='vscode-notebook-cell:/c%3A/Users/danie/Documents/H%C3%B8st2023/FYS-STK/FYSSTK/Project3/src/jupyter_analysis/finiteVanalytic1d.ipynb#W2sZmlsZQ%3D%3D?line=7'>8</a>\u001b[0m plot_heat()\n\u001b[0;32m     <a href='vscode-notebook-cell:/c%3A/Users/danie/Documents/H%C3%B8st2023/FYS-STK/FYSSTK/Project3/src/jupyter_analysis/finiteVanalytic1d.ipynb#W2sZmlsZQ%3D%3D?line=10'>11</a>\u001b[0m title\u001b[39m=\u001b[39m \u001b[39m'\u001b[39m\u001b[39m3D Surface plot of Analytical Heat Distribution\u001b[39m\u001b[39m'\u001b[39m\n\u001b[0;32m     <a href='vscode-notebook-cell:/c%3A/Users/danie/Documents/H%C3%B8st2023/FYS-STK/FYSSTK/Project3/src/jupyter_analysis/finiteVanalytic1d.ipynb#W2sZmlsZQ%3D%3D?line=12'>13</a>\u001b[0m plot_heat(xv, tv, heat_analytical, title)\n",
      "\u001b[1;31mTypeError\u001b[0m: plot_heat() missing 3 required positional arguments: 'xv', 'tv', and 'u'"
     ]
    }
   ],
   "source": [
    "from AnalyticalHeat import analytical_heat\n",
    "from plotutils import plot_heat\n",
    "import matplotlib.pyplot as plt\n",
    "\n",
    "xv, tv = np.meshgrid(x,t)\n",
    "heat_analytical = analytical_heat(xv,tv)\n",
    "\n",
    "plot_heat()\n",
    "\n",
    "\n",
    "title= '3D Surface plot of Analytical Heat Distribution'\n",
    "\n",
    "plot_heat(xv=xv, tv=tv, u=heat_analytical, title=title)\n",
    "\"\"\"\n",
    "   xv: np.ndarray[float],\n",
    "    tv: np.ndarray[float],\n",
    "    u: np.ndarray[float],\n",
    "    title: str = \"Heat\",\n",
    "    cmap: str = \"viridis\",\n",
    "    axlims: tuple = (None, None, (0, 0.7)),\n",
    "    showPlots: bool = True,\n",
    "    savePlots: bool = False,\n",
    "    figsPath: Path = None,\n",
    "    saveName: str = None,\n",
    "\"\"\""
   ]
  },
  {
   "cell_type": "code",
   "execution_count": 3,
   "metadata": {},
   "outputs": [],
   "source": [
    "from FiniteDiffHeat import MatrixMethod, IterationMethod\n",
    "\n",
    "#inital heat distribution\n",
    "u0 = np.sin(np.pi*x)\n",
    "MM = MatrixMethod(dx,dt,u0,nt)\n",
    "IM = IterationMethod(dx,dt,u0,nt)\n",
    "MM.solve()\n",
    "IM.solve()\n",
    "Matrix_heat = MM.u\n",
    "Iter_heat = IM.u\n",
    "\n"
   ]
  },
  {
   "cell_type": "code",
   "execution_count": null,
   "metadata": {},
   "outputs": [],
   "source": []
  }
 ],
 "metadata": {
  "kernelspec": {
   "display_name": "fysstk",
   "language": "python",
   "name": "python3"
  },
  "language_info": {
   "codemirror_mode": {
    "name": "ipython",
    "version": 3
   },
   "file_extension": ".py",
   "mimetype": "text/x-python",
   "name": "python",
   "nbconvert_exporter": "python",
   "pygments_lexer": "ipython3",
   "version": "3.12.0"
  }
 },
 "nbformat": 4,
 "nbformat_minor": 2
}
