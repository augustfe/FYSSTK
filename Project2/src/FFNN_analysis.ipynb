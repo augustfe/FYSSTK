{
 "cells": [
  {
   "cell_type": "code",
   "execution_count": 1,
   "metadata": {},
   "outputs": [
    {
     "name": "stderr",
     "output_type": "stream",
     "text": [
      "/Users/augustfemtehjell/opt/miniconda3/envs/fysstk/lib/python3.11/site-packages/jax/_src/api_util.py:172: SyntaxWarning: Jitted function has static_argnums=(1,), but only accepts 1 positional arguments. This warning will be replaced by an error after 2022-08-20 at the earliest.\n",
      "  warnings.warn(f\"Jitted function has {argnums_name}={argnums}, \"\n"
     ]
    }
   ],
   "source": [
    "from NeuralNetwork import NeuralNet\n",
    "import jax.numpy as np\n",
    "import numpy as onp\n",
    "\n",
    "\n",
    "def simple_poly(X: np.ndarray) -> np.ndarray:\n",
    "    return 4 - 3 * X + X**2"
   ]
  },
  {
   "cell_type": "code",
   "execution_count": 2,
   "metadata": {},
   "outputs": [],
   "source": [
    "onp.random.seed(2023)\n",
    "\n",
    "n_points = 2000\n",
    "x = onp.random.randn(n_points, 1)\n",
    "y = simple_poly(x) + onp.random.randn(n_points, 1)"
   ]
  },
  {
   "cell_type": "code",
   "execution_count": 3,
   "metadata": {},
   "outputs": [
    {
     "name": "stderr",
     "output_type": "stream",
     "text": [
      "WARNING: All log messages before absl::InitializeLog() is called are written to STDERR\n",
      "I0000 00:00:1699804668.533830       1 tfrt_cpu_pjrt_client.cc:349] TfrtCpuClient created.\n",
      "  0%|          | 0/10000 [00:00<?, ?it/s]"
     ]
    },
    {
     "name": "stdout",
     "output_type": "stream",
     "text": [
      "(80, 1)\n"
     ]
    },
    {
     "ename": "TypeError",
     "evalue": "Gradient only defined for scalar-output functions. Output had shape: (80,).",
     "output_type": "error",
     "traceback": [
      "\u001b[0;31m---------------------------------------------------------------------------\u001b[0m",
      "\u001b[0;31mTypeError\u001b[0m                                 Traceback (most recent call last)",
      "\u001b[1;32m/Users/augustfemtehjell/Documents/Høst23/FYSSTK/Project2/src/FFNN_analysis.ipynb Cell 3\u001b[0m line \u001b[0;36m8\n\u001b[1;32m      <a href='vscode-notebook-cell:/Users/augustfemtehjell/Documents/H%C3%B8st23/FYSSTK/Project2/src/FFNN_analysis.ipynb#W2sZmlsZQ%3D%3D?line=4'>5</a>\u001b[0m scheduler \u001b[39m=\u001b[39m Constant(\u001b[39m0.01\u001b[39m)\n\u001b[1;32m      <a href='vscode-notebook-cell:/Users/augustfemtehjell/Documents/H%C3%B8st23/FYSSTK/Project2/src/FFNN_analysis.ipynb#W2sZmlsZQ%3D%3D?line=5'>6</a>\u001b[0m FFNN \u001b[39m=\u001b[39m NeuralNet(dimension, seed\u001b[39m=\u001b[39m\u001b[39m2023\u001b[39m, output_func\u001b[39m=\u001b[39mjit(\u001b[39mlambda\u001b[39;00m x: x))\n\u001b[0;32m----> <a href='vscode-notebook-cell:/Users/augustfemtehjell/Documents/H%C3%B8st23/FYSSTK/Project2/src/FFNN_analysis.ipynb#W2sZmlsZQ%3D%3D?line=7'>8</a>\u001b[0m scores \u001b[39m=\u001b[39m FFNN\u001b[39m.\u001b[39;49mfit(x, y, scheduler, batches\u001b[39m=\u001b[39;49m\u001b[39m25\u001b[39;49m, epochs\u001b[39m=\u001b[39;49m\u001b[39m400\u001b[39;49m, lmbda\u001b[39m=\u001b[39;49m\u001b[39m0.2\u001b[39;49m)\n",
      "File \u001b[0;32m~/Documents/Høst23/FYSSTK/Project2/src/NeuralNetwork.py:235\u001b[0m, in \u001b[0;36mNeuralNet.fit\u001b[0;34m(self, X_train, target_train, scheduler, batches, epochs, lmbda, X_val, target_val)\u001b[0m\n\u001b[1;32m    232\u001b[0m     target_batch \u001b[39m=\u001b[39m target_train[batch_idx]\n\u001b[1;32m    234\u001b[0m     \u001b[39mself\u001b[39m\u001b[39m.\u001b[39mfeed_forward(X_batch)\n\u001b[0;32m--> 235\u001b[0m     \u001b[39mself\u001b[39;49m\u001b[39m.\u001b[39;49mback_propagate(X_batch, target_batch, lmbda)\n\u001b[1;32m    237\u001b[0m     pbar\u001b[39m.\u001b[39mupdate(\u001b[39m1\u001b[39m)\n\u001b[1;32m    239\u001b[0m \u001b[39m# Reset schedulers\u001b[39;00m\n",
      "File \u001b[0;32m~/Documents/Høst23/FYSSTK/Project2/src/NeuralNetwork.py:363\u001b[0m, in \u001b[0;36mNeuralNet.back_propagate\u001b[0;34m(self, X_batch, target_batch, lmbda)\u001b[0m\n\u001b[1;32m    360\u001b[0m cost_func_derivative \u001b[39m=\u001b[39m grad(\u001b[39mself\u001b[39m\u001b[39m.\u001b[39mcost_func(target_batch))\n\u001b[1;32m    361\u001b[0m \u001b[39mprint\u001b[39m(\u001b[39mself\u001b[39m\u001b[39m.\u001b[39mz_layers[i \u001b[39m+\u001b[39m \u001b[39m1\u001b[39m]\u001b[39m.\u001b[39mshape)\n\u001b[0;32m--> 363\u001b[0m left \u001b[39m=\u001b[39m output_derivative(\u001b[39mself\u001b[39;49m\u001b[39m.\u001b[39;49mz_layers[i \u001b[39m+\u001b[39;49m \u001b[39m1\u001b[39;49m]\u001b[39m.\u001b[39;49mravel())\n\u001b[1;32m    364\u001b[0m right \u001b[39m=\u001b[39m cost_func_derivative(\u001b[39mself\u001b[39m\u001b[39m.\u001b[39ma_layers[i \u001b[39m+\u001b[39m \u001b[39m1\u001b[39m])\n\u001b[1;32m    366\u001b[0m delta_matrix \u001b[39m=\u001b[39m left \u001b[39m*\u001b[39m right\n",
      "    \u001b[0;31m[... skipping hidden 4 frame]\u001b[0m\n",
      "File \u001b[0;32m~/opt/miniconda3/envs/fysstk/lib/python3.11/site-packages/jax/_src/api.py:766\u001b[0m, in \u001b[0;36m_check_scalar\u001b[0;34m(x)\u001b[0m\n\u001b[1;32m    764\u001b[0m \u001b[39mif\u001b[39;00m \u001b[39misinstance\u001b[39m(aval, ShapedArray):\n\u001b[1;32m    765\u001b[0m   \u001b[39mif\u001b[39;00m aval\u001b[39m.\u001b[39mshape \u001b[39m!=\u001b[39m ():\n\u001b[0;32m--> 766\u001b[0m     \u001b[39mraise\u001b[39;00m \u001b[39mTypeError\u001b[39;00m(msg(\u001b[39mf\u001b[39m\u001b[39m\"\u001b[39m\u001b[39mhad shape: \u001b[39m\u001b[39m{\u001b[39;00maval\u001b[39m.\u001b[39mshape\u001b[39m}\u001b[39;00m\u001b[39m\"\u001b[39m))\n\u001b[1;32m    767\u001b[0m \u001b[39melse\u001b[39;00m:\n\u001b[1;32m    768\u001b[0m   \u001b[39mraise\u001b[39;00m \u001b[39mTypeError\u001b[39;00m(msg(\u001b[39mf\u001b[39m\u001b[39m\"\u001b[39m\u001b[39mhad abstract value \u001b[39m\u001b[39m{\u001b[39;00maval\u001b[39m}\u001b[39;00m\u001b[39m\"\u001b[39m))\n",
      "\u001b[0;31mTypeError\u001b[0m: Gradient only defined for scalar-output functions. Output had shape: (80,)."
     ]
    }
   ],
   "source": [
    "from Schedules import Constant\n",
    "from jax import jit\n",
    "\n",
    "dimension = (1, 5, 5, 5, 1)\n",
    "scheduler = Constant(0.01)\n",
    "FFNN = NeuralNet(dimension, seed=2023, output_func=jit(lambda x: x))\n",
    "\n",
    "scores = FFNN.fit(x, y, scheduler, batches=25, epochs=400, lmbda=0.2)"
   ]
  },
  {
   "cell_type": "code",
   "execution_count": null,
   "metadata": {},
   "outputs": [],
   "source": [
    "import matplotlib.pyplot as plt\n",
    "\n",
    "xnew = np.linspace(-3, 3, 100).reshape(-1, 1)\n",
    "ynew = FFNN.predict(xnew)\n",
    "\n",
    "plt.plot(x, y, \"o\", label=\"data\")\n",
    "plt.plot(xnew, ynew, label=\"prediction\")\n",
    "plt.plot(xnew, simple_poly(xnew), label=\"true\")\n",
    "plt.legend()\n",
    "plt.show()"
   ]
  },
  {
   "cell_type": "code",
   "execution_count": null,
   "metadata": {},
   "outputs": [],
   "source": [
    "from Schedules import Adam\n",
    "\n",
    "dimension = (1, 5, 5, 5, 1)\n",
    "scheduler = Adam(0.01, 0.9, 0.999)\n",
    "FFNN = NeuralNet(dimension, seed=2023, output_func=lambda x: x)\n",
    "\n",
    "scores = FFNN.fit(x, y, scheduler, batches=25, epochs=400, lmbda=0.2)"
   ]
  },
  {
   "cell_type": "code",
   "execution_count": null,
   "metadata": {},
   "outputs": [],
   "source": [
    "xnew = np.linspace(-3, 3, 100).reshape(-1, 1)\n",
    "ynew = FFNN.predict(xnew)\n",
    "\n",
    "plt.plot(x, y, \"o\", label=\"data\")\n",
    "plt.plot(xnew, ynew, label=\"prediction\")\n",
    "plt.plot(xnew, simple_poly(xnew), label=\"true\")\n",
    "plt.legend()\n",
    "plt.show()"
   ]
  },
  {
   "cell_type": "code",
   "execution_count": null,
   "metadata": {},
   "outputs": [],
   "source": [
    "from Activators import RELU\n",
    "\n",
    "dimension = (1, 20, 20, 20, 1)\n",
    "scheduler = Adam(0.01, 0.9, 0.999)\n",
    "FFNN = NeuralNet(dimension, seed=2023, output_func=lambda x: x, hidden_func=RELU)\n",
    "\n",
    "scores = FFNN.fit(x, y, scheduler, batches=25, epochs=400, lmbda=0.2)"
   ]
  },
  {
   "cell_type": "code",
   "execution_count": null,
   "metadata": {},
   "outputs": [],
   "source": [
    "xnew = np.linspace(-3, 3, 100).reshape(-1, 1)\n",
    "ynew = FFNN.predict(xnew)\n",
    "\n",
    "plt.plot(x, y, \"o\", label=\"data\", alpha=0.2)\n",
    "plt.plot(xnew, ynew, label=\"prediction\")\n",
    "plt.plot(xnew, simple_poly(xnew), label=\"true\")\n",
    "plt.legend()\n",
    "plt.show()"
   ]
  },
  {
   "cell_type": "code",
   "execution_count": null,
   "metadata": {},
   "outputs": [],
   "source": [
    "from Activators import LRELU\n",
    "\n",
    "dimension = (1, 20, 20, 20, 1)\n",
    "scheduler = Adam(0.01, 0.9, 0.999)\n",
    "FFNN = NeuralNet(dimension, seed=2023, output_func=lambda x: x, hidden_func=LRELU)\n",
    "\n",
    "scores = FFNN.fit(x, y, scheduler, batches=25, epochs=400, lmbda=0.2)"
   ]
  },
  {
   "cell_type": "code",
   "execution_count": null,
   "metadata": {},
   "outputs": [],
   "source": [
    "xnew = np.linspace(-3, 3, 100).reshape(-1, 1)\n",
    "ynew = FFNN.predict(xnew)\n",
    "\n",
    "plt.plot(x, y, \"o\", label=\"data\", alpha=0.2)\n",
    "plt.plot(xnew, ynew, label=\"prediction\")\n",
    "plt.plot(xnew, simple_poly(xnew), label=\"true\")\n",
    "plt.legend()\n",
    "plt.show()"
   ]
  },
  {
   "cell_type": "code",
   "execution_count": null,
   "metadata": {},
   "outputs": [],
   "source": [
    "import autograd.numpy as np\n",
    "\n",
    "\n",
    "def FrankeFunction(x: np.ndarray, y: np.ndarray) -> np.ndarray:\n",
    "    \"\"\"Franke's function for evaluating methods.\n",
    "\n",
    "    inputs:\n",
    "        x (np.array): values in x direction\n",
    "\n",
    "        y (np.array): values in y direction\n",
    "\n",
    "    returns:\n",
    "        (np.array) values in z direction\n",
    "    \"\"\"\n",
    "\n",
    "    term1 = 0.75 * np.exp(-(0.25 * (9 * x - 2) ** 2) -\n",
    "                          0.25 * ((9 * y - 2) ** 2))\n",
    "    term2 = 0.75 * np.exp(-((9 * x + 1) ** 2) / 49.0 - 0.1 * (9 * y + 1))\n",
    "    term3 = 0.5 * np.exp(-((9 * x - 7) ** 2) / 4.0 - 0.25 * ((9 * y - 3) ** 2))\n",
    "    term4 = -0.2 * np.exp(-((9 * x - 4) ** 2) - (9 * y - 7) ** 2)\n",
    "    return term1 + term2 + term3 + term4"
   ]
  },
  {
   "cell_type": "code",
   "execution_count": null,
   "metadata": {},
   "outputs": [],
   "source": [
    "x = np.linspace(0, 1, 10)\n",
    "y = np.linspace(0, 1, 10)\n",
    "x_, y_ = np.meshgrid(x, y)\n",
    "x = x_.ravel().reshape(-1, 1)\n",
    "y = y_.ravel().reshape(-1, 1)\n",
    "\n",
    "z = FrankeFunction(x, y)  # + np.random.randn(100, 100) * 0.1"
   ]
  },
  {
   "cell_type": "code",
   "execution_count": null,
   "metadata": {},
   "outputs": [],
   "source": [
    "from mpl_toolkits.mplot3d import Axes3D\n",
    "from matplotlib import cm\n",
    "from matplotlib.ticker import LinearLocator, FormatStrFormatter\n",
    "import matplotlib.pyplot as plt\n",
    "\n",
    "xnew = np.linspace(0, 1, 100)\n",
    "ynew = np.linspace(0, 1, 100)\n",
    "xnew, ynew = np.meshgrid(xnew, ynew)\n",
    "znew = FFNN.predict(\n",
    "    np.c_[xnew.ravel().reshape(-1, 1), ynew.ravel().reshape(-1, 1)]\n",
    ").reshape(100, 100)\n",
    "\n",
    "fig = plt.figure(figsize=plt.figaspect(0.5))\n",
    "\n",
    "ax = fig.add_subplot(1, 2, 1, projection=\"3d\")\n",
    "surf = ax.plot_surface(\n",
    "    x_,\n",
    "    y_,\n",
    "    z,\n",
    "    cmap=cm.coolwarm,\n",
    "    linewidth=0,\n",
    "    antialiased=False,\n",
    ")\n",
    "\n",
    "# Customize the z axis.\n",
    "ax.set_zlim(-0.10, 1.40)\n",
    "ax.zaxis.set_major_locator(LinearLocator(10))\n",
    "ax.zaxis.set_major_formatter(FormatStrFormatter(\"%.02f\"))\n",
    "ax.set_title(\"Input data\")\n",
    "\n",
    "# Add a color bar which maps values to colors.\n",
    "fig.colorbar(surf, shrink=0.5, aspect=10)\n",
    "\n",
    "ax = fig.add_subplot(1, 2, 2, projection=\"3d\")\n",
    "surf = ax.plot_surface(\n",
    "    xnew,\n",
    "    ynew,\n",
    "    znew,\n",
    "    cmap=cm.coolwarm,\n",
    "    linewidth=0,\n",
    "    antialiased=False,\n",
    ")\n",
    "\n",
    "# Customize the z axis.\n",
    "ax.set_zlim(-0.10, 1.40)\n",
    "ax.zaxis.set_major_locator(LinearLocator(10))\n",
    "ax.zaxis.set_major_formatter(FormatStrFormatter(\"%.02f\"))\n",
    "ax.set_title(\"Output data\")\n",
    "\n",
    "# Add a color bar which maps values to colors.\n",
    "fig.colorbar(surf, shrink=0.5, aspect=10)\n",
    "\n",
    "fig.suptitle(\"Franke's function\")\n",
    "\n",
    "plt.tight_layout()"
   ]
  },
  {
   "cell_type": "code",
   "execution_count": null,
   "metadata": {},
   "outputs": [],
   "source": [
    "from Activators import RELU\n",
    "\n",
    "x = np.linspace(-2, 5, 1000).reshape(-1, 1)\n",
    "y = simple_poly(x)\n",
    "\n",
    "\n",
    "dimension = (1, 25, 1)\n",
    "scheduler = Adam(0.01, 0.9, 0.999)\n",
    "FFNN = NeuralNet(dimension, seed=2023, output_func=lambda x: x, hidden_func=RELU)\n",
    "\n",
    "scores = FFNN.fit(x, y, scheduler, batches=25, epochs=200, lmbda=0.2)"
   ]
  },
  {
   "cell_type": "code",
   "execution_count": null,
   "metadata": {},
   "outputs": [],
   "source": [
    "ypred = FFNN.predict(x)\n",
    "\n",
    "plt.scatter(x, y, label=\"data\", alpha=0.2)\n",
    "plt.plot(x, ypred, label=\"prediction\")\n",
    "plt.legend()\n",
    "plt.show()"
   ]
  },
  {
   "cell_type": "code",
   "execution_count": null,
   "metadata": {},
   "outputs": [],
   "source": [
    "ypred.shape"
   ]
  },
  {
   "cell_type": "code",
   "execution_count": null,
   "metadata": {},
   "outputs": [],
   "source": [
    "accuracy = np.array(scores[\"train_errors\"])\n",
    "t = np.arange(accuracy.shape[0])\n",
    "plt.plot(t, accuracy[t])"
   ]
  },
  {
   "cell_type": "code",
   "execution_count": null,
   "metadata": {},
   "outputs": [],
   "source": [
    "scores.keys()"
   ]
  },
  {
   "cell_type": "code",
   "execution_count": null,
   "metadata": {},
   "outputs": [],
   "source": [
    "x = np.linspace(0, 1, 100)\n",
    "y = np.linspace(0, 1, 100)\n",
    "x_, y_ = np.meshgrid(x, y)\n",
    "x = x_.ravel().reshape(-1, 1)\n",
    "y = y_.ravel().reshape(-1, 1)"
   ]
  },
  {
   "cell_type": "code",
   "execution_count": null,
   "metadata": {},
   "outputs": [],
   "source": [
    "def design_poly(x, y, dim):\n",
    "    x = x.ravel()\n",
    "    y = y.ravel()\n",
    "    X = np.zeros((x.shape[0], dim * (dim + 1) // 2))\n",
    "    k = 0\n",
    "    for i in range(dim):\n",
    "        for j in range(i + 1):\n",
    "            X[:, k] = x ** (i - j) * y**j\n",
    "            k += 1\n",
    "    return X\n",
    "\n",
    "\n",
    "X = design_poly(x, y, 10)\n",
    "X.shape"
   ]
  },
  {
   "cell_type": "code",
   "execution_count": null,
   "metadata": {},
   "outputs": [],
   "source": [
    "from Activators import sigmoid\n",
    "from sklearn.preprocessing import StandardScaler\n",
    "\n",
    "z = FrankeFunction(x, y)  # + np.random.randn(100, 100) * 0.1\n",
    "scaler = StandardScaler()\n",
    "z = scaler.fit_transform(z)\n",
    "scheduler = Adam(0.01, 0.9, 0.999)\n",
    "FFNN = NeuralNet((55, 55, 1), seed=2023,\n",
    "                 output_func=lambda x: x, hidden_func=sigmoid)\n",
    "scores = FFNN.fit(X, z, scheduler, batches=25, epochs=400, lmbda=0.2)"
   ]
  },
  {
   "cell_type": "code",
   "execution_count": null,
   "metadata": {},
   "outputs": [],
   "source": [
    "plt.plot(scores[\"train_errors\"][10:])"
   ]
  },
  {
   "cell_type": "code",
   "execution_count": null,
   "metadata": {},
   "outputs": [],
   "source": [
    "from mpl_toolkits.mplot3d import Axes3D\n",
    "from matplotlib import cm\n",
    "from matplotlib.ticker import LinearLocator, FormatStrFormatter\n",
    "import matplotlib.pyplot as plt\n",
    "\n",
    "znew = FFNN.predict(X)\n",
    "\n",
    "fig = plt.figure(figsize=plt.figaspect(0.5))\n",
    "\n",
    "ax = fig.add_subplot(1, 2, 1, projection=\"3d\")\n",
    "surf = ax.plot_surface(\n",
    "    x_,\n",
    "    y_,\n",
    "    FrankeFunction(x_, y_),\n",
    "    cmap=cm.coolwarm,\n",
    "    linewidth=0,\n",
    "    antialiased=False,\n",
    ")\n",
    "\n",
    "# Customize the z axis.\n",
    "ax.set_zlim(-0.10, 1.40)\n",
    "ax.zaxis.set_major_locator(LinearLocator(10))\n",
    "ax.zaxis.set_major_formatter(FormatStrFormatter(\"%.02f\"))\n",
    "ax.set_title(\"Input data\")\n",
    "\n",
    "# Add a color bar which maps values to colors.\n",
    "fig.colorbar(surf, shrink=0.5, aspect=10)\n",
    "\n",
    "ax = fig.add_subplot(1, 2, 2, projection=\"3d\")\n",
    "surf = ax.plot_surface(\n",
    "    x_,\n",
    "    y_,\n",
    "    znew.reshape(100, 100),\n",
    "    cmap=cm.coolwarm,\n",
    "    linewidth=0,\n",
    "    antialiased=False,\n",
    ")\n",
    "\n",
    "# Customize the z axis.\n",
    "ax.set_zlim(-0.10, 1.40)\n",
    "ax.zaxis.set_major_locator(LinearLocator(10))\n",
    "ax.zaxis.set_major_formatter(FormatStrFormatter(\"%.02f\"))\n",
    "ax.set_title(\"Output data\")\n",
    "\n",
    "# Add a color bar which maps values to colors.\n",
    "fig.colorbar(surf, shrink=0.5, aspect=10)\n",
    "\n",
    "fig.suptitle(\"Franke's function\")\n",
    "\n",
    "plt.tight_layout()"
   ]
  }
 ],
 "metadata": {
  "kernelspec": {
   "display_name": "fysstk",
   "language": "python",
   "name": "python3"
  },
  "language_info": {
   "codemirror_mode": {
    "name": "ipython",
    "version": 3
   },
   "file_extension": ".py",
   "mimetype": "text/x-python",
   "name": "python",
   "nbconvert_exporter": "python",
   "pygments_lexer": "ipython3",
   "version": "3.11.5"
  }
 },
 "nbformat": 4,
 "nbformat_minor": 2
}
